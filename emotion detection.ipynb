{
 "cells": [
  {
   "cell_type": "code",
   "execution_count": 2,
   "id": "55a173bb",
   "metadata": {},
   "outputs": [
    {
     "name": "stdout",
     "output_type": "stream",
     "text": [
      "WARNING:tensorflow:From C:\\Users\\ashis\\anaconda3\\Lib\\site-packages\\keras\\src\\losses.py:2976: The name tf.losses.sparse_softmax_cross_entropy is deprecated. Please use tf.compat.v1.losses.sparse_softmax_cross_entropy instead.\n",
      "\n"
     ]
    }
   ],
   "source": [
    "import tensorflow as tf\n",
    "import numpy as np\n",
    "import matplotlib.pyplot as plt\n",
    "import pandas as pd"
   ]
  },
  {
   "cell_type": "code",
   "execution_count": 3,
   "id": "11a7353d",
   "metadata": {},
   "outputs": [],
   "source": [
    "from keras.preprocessing.image import ImageDataGenerator\n",
    "from  keras.models import Sequential\n",
    "from keras.layers import Dense,Dropout,Flatten\n",
    "from keras.layers import Conv2D,MaxPooling2D\n",
    "import os\n",
    "from matplotlib import pyplot as plt"
   ]
  },
  {
   "cell_type": "code",
   "execution_count": 4,
   "id": "11392004",
   "metadata": {},
   "outputs": [],
   "source": [
    "IMG_HEIGHT = 48\n",
    "IMG_WIDTH = 48\n",
    "batch_size = 32"
   ]
  },
  {
   "cell_type": "code",
   "execution_count": 5,
   "id": "19cf9847",
   "metadata": {},
   "outputs": [],
   "source": [
    "\n",
    "train_data_dir = r\"C:\\Users\\ashis\\OneDrive\\Desktop\\Emotion detection\\archive\\train\"\n",
    "validation_data_dir = r\"C:\\Users\\ashis\\OneDrive\\Desktop\\Emotion detection\\archive\\test\" "
   ]
  },
  {
   "cell_type": "code",
   "execution_count": 6,
   "id": "7f7efa62",
   "metadata": {},
   "outputs": [
    {
     "name": "stdout",
     "output_type": "stream",
     "text": [
      "Found 28709 images belonging to 7 classes.\n",
      "Found 28709 images belonging to 7 classes.\n"
     ]
    }
   ],
   "source": [
    "train_datagen = ImageDataGenerator(rescale=1./255)\n",
    "validation_datagen = ImageDataGenerator(rescale=1./255)\n",
    "\n",
    "train_generator = train_datagen.flow_from_directory(train_data_dir,\n",
    "color_mode='grayscale',target_size=(IMG_HEIGHT,IMG_WIDTH),batch_size=batch_size,class_mode='categorical',shuffle=True)\n",
    "\n",
    "validation_generator = validation_datagen.flow_from_directory(train_data_dir,\n",
    "color_mode='grayscale',target_size=(IMG_HEIGHT,IMG_WIDTH),batch_size=batch_size,class_mode='categorical',shuffle=True)"
   ]
  },
  {
   "cell_type": "code",
   "execution_count": 7,
   "id": "a0a27d34",
   "metadata": {},
   "outputs": [
    {
     "data": {
      "image/png": "[encoded data removed]",
      "text/plain": [
       "<Figure size 640x480 with 1 Axes>"
      ]
     },
     "metadata": {},
     "output_type": "display_data"
    }
   ],
   "source": [
    "## verify our generator by plotting a few faces and printing corresponding labels\n",
    "class_labels = ['Angry','Disgust','Fear','Happy','Neutral','sad','Surprise']\n",
    "\n",
    "img, label = train_generator.__next__()\n",
    "\n",
    "import random\n",
    "\n",
    "i=random.randint(0,(img.shape[0])-1)\n",
    "image=img[i]\n",
    "labl=class_labels[label[i].argmax()]\n",
    "plt.imshow(image[:,:,0], cmap='gray')\n",
    "plt.title(labl)\n",
    "plt.show()"
   ]
  },
  {
   "cell_type": "code",
   "execution_count": 8,
   "id": "88b49d04",
   "metadata": {},
   "outputs": [
    {
     "name": "stdout",
     "output_type": "stream",
     "text": [
      "WARNING:tensorflow:From C:\\Users\\ashis\\anaconda3\\Lib\\site-packages\\keras\\src\\backend.py:873: The name tf.get_default_graph is deprecated. Please use tf.compat.v1.get_default_graph instead.\n",
      "\n"
     ]
    }
   ],
   "source": [
    "## now we create the cnn model\n",
    "model = Sequential()"
   ]
  },
  {
   "cell_type": "code",
   "execution_count": 9,
   "id": "c5da3939",
   "metadata": {},
   "outputs": [
    {
     "name": "stdout",
     "output_type": "stream",
     "text": [
      "WARNING:tensorflow:From C:\\Users\\ashis\\anaconda3\\Lib\\site-packages\\keras\\src\\layers\\pooling\\max_pooling2d.py:161: The name tf.nn.max_pool is deprecated. Please use tf.nn.max_pool2d instead.\n",
      "\n",
      "WARNING:tensorflow:From C:\\Users\\ashis\\anaconda3\\Lib\\site-packages\\keras\\src\\optimizers\\__init__.py:309: The name tf.train.Optimizer is deprecated. Please use tf.compat.v1.train.Optimizer instead.\n",
      "\n",
      "Model: \"sequential\"\n",
      "_________________________________________________________________\n",
      " Layer (type)                Output Shape              Param #   \n",
      "=================================================================\n",
      " conv2d (Conv2D)             (None, 46, 46, 32)        320       \n",
      "                                                                 \n",
      " conv2d_1 (Conv2D)           (None, 44, 44, 64)        18496     \n",
      "                                                                 \n",
      " max_pooling2d (MaxPooling2  (None, 22, 22, 64)        0         \n",
      " D)                                                              \n",
      "                                                                 \n",
      " dropout (Dropout)           (None, 22, 22, 64)        0         \n",
      "                                                                 \n",
      " conv2d_2 (Conv2D)           (None, 20, 20, 128)       73856     \n",
      "                                                                 \n",
      " max_pooling2d_1 (MaxPoolin  (None, 10, 10, 128)       0         \n",
      " g2D)                                                            \n",
      "                                                                 \n",
      " dropout_1 (Dropout)         (None, 10, 10, 128)       0         \n",
      "                                                                 \n",
      " conv2d_3 (Conv2D)           (None, 8, 8, 256)         295168    \n",
      "                                                                 \n",
      " max_pooling2d_2 (MaxPoolin  (None, 4, 4, 256)         0         \n",
      " g2D)                                                            \n",
      "                                                                 \n",
      " dropout_2 (Dropout)         (None, 4, 4, 256)         0         \n",
      "                                                                 \n",
      " flatten (Flatten)           (None, 4096)              0         \n",
      "                                                                 \n",
      " dense (Dense)               (None, 512)               2097664   \n",
      "                                                                 \n",
      " dropout_3 (Dropout)         (None, 512)               0         \n",
      "                                                                 \n",
      " dense_1 (Dense)             (None, 7)                 3591      \n",
      "                                                                 \n",
      "=================================================================\n",
      "Total params: 2489095 (9.50 MB)\n",
      "Trainable params: 2489095 (9.50 MB)\n",
      "Non-trainable params: 0 (0.00 Byte)\n",
      "_________________________________________________________________\n",
      "None\n"
     ]
    }
   ],
   "source": [
    "model.add(Conv2D(32, kernel_size=(3,3), activation='relu', input_shape=(48,48,1)))\n",
    "\n",
    "model.add(Conv2D(64, kernel_size=(3,3),activation='relu'))\n",
    "model.add(MaxPooling2D(pool_size=(2,2)))\n",
    "model.add(Dropout(0.1))\n",
    "\n",
    "model.add(Conv2D(128, kernel_size=(3,3),activation='relu'))\n",
    "model.add(MaxPooling2D(pool_size=(2,2)))\n",
    "model.add(Dropout(0.1))\n",
    "\n",
    "model.add(Conv2D(256, kernel_size=(3,3),activation='relu'))\n",
    "model.add(MaxPooling2D(pool_size=(2,2)))\n",
    "model.add(Dropout(0.1))\n",
    "\n",
    "model.add(Flatten())\n",
    "model.add(Dense(512,activation='relu'))\n",
    "model.add(Dropout(0.2))\n",
    "\n",
    "model.add(Dense(7,activation='softmax'))\n",
    "\n",
    "model.compile(optimizer = 'adam', loss='categorical_crossentropy', metrics=['accuracy'])\n",
    "print(model.summary())\n",
    "\n"
   ]
  },
  {
   "cell_type": "code",
   "execution_count": 10,
   "id": "4afd22b9",
   "metadata": {},
   "outputs": [],
   "source": [
    "train_path = r\"C:\\Users\\ashis\\OneDrive\\Desktop\\Emotion detection\\archive\\train\"\n",
    "test_path = r\"C:\\Users\\ashis\\OneDrive\\Desktop\\Emotion detection\\archive\\test\""
   ]
  },
  {
   "cell_type": "code",
   "execution_count": 11,
   "id": "e9738ad9",
   "metadata": {},
   "outputs": [],
   "source": [
    "num_train_imgs = 0\n",
    "for root, dirs,files in os.walk(train_path):\n",
    "    num_train_imgs +=len(files)\n",
    "num_test_imgs = 0\n",
    "for root, dirs,files in os.walk(test_path):\n",
    "    num_test_imgs +=len(files)\n",
    "    \n",
    "epochs=50   "
   ]
  },
  {
   "cell_type": "code",
   "execution_count": 12,
   "id": "b4130e9f",
   "metadata": {},
   "outputs": [
    {
     "name": "stdout",
     "output_type": "stream",
     "text": [
      "Epoch 1/50\n",
      "WARNING:tensorflow:From C:\\Users\\ashis\\anaconda3\\Lib\\site-packages\\keras\\src\\utils\\tf_utils.py:492: The name tf.ragged.RaggedTensorValue is deprecated. Please use tf.compat.v1.ragged.RaggedTensorValue instead.\n",
      "\n",
      "WARNING:tensorflow:From C:\\Users\\ashis\\anaconda3\\Lib\\site-packages\\keras\\src\\engine\\base_layer_utils.py:384: The name tf.executing_eagerly_outside_functions is deprecated. Please use tf.compat.v1.executing_eagerly_outside_functions instead.\n",
      "\n",
      "897/897 [==============================] - 100s 109ms/step - loss: 1.6694 - accuracy: 0.3302 - val_loss: 1.4494 - val_accuracy: 0.4424\n",
      "Epoch 2/50\n",
      "897/897 [==============================] - 101s 113ms/step - loss: 1.3730 - accuracy: 0.4716 - val_loss: 1.2097 - val_accuracy: 0.5470\n",
      "Epoch 3/50\n",
      "897/897 [==============================] - 103s 115ms/step - loss: 1.2235 - accuracy: 0.5346 - val_loss: 1.0884 - val_accuracy: 0.5875\n",
      "Epoch 4/50\n",
      "897/897 [==============================] - 105s 117ms/step - loss: 1.1344 - accuracy: 0.5677 - val_loss: 1.0137 - val_accuracy: 0.6144\n",
      "Epoch 5/50\n",
      "897/897 [==============================] - 104s 116ms/step - loss: 1.0668 - accuracy: 0.5993 - val_loss: 0.9204 - val_accuracy: 0.6528\n",
      "Epoch 6/50\n",
      "897/897 [==============================] - 104s 116ms/step - loss: 1.0001 - accuracy: 0.6219 - val_loss: 0.8302 - val_accuracy: 0.7008\n",
      "Epoch 7/50\n",
      "897/897 [==============================] - 104s 116ms/step - loss: 0.9225 - accuracy: 0.6530 - val_loss: 0.7371 - val_accuracy: 0.7344\n",
      "Epoch 8/50\n",
      "897/897 [==============================] - 105s 118ms/step - loss: 0.8671 - accuracy: 0.6738 - val_loss: 0.6689 - val_accuracy: 0.7656\n",
      "Epoch 9/50\n",
      "897/897 [==============================] - 105s 117ms/step - loss: 0.7994 - accuracy: 0.7029 - val_loss: 0.5752 - val_accuracy: 0.8097\n",
      "Epoch 10/50\n",
      "897/897 [==============================] - 106s 118ms/step - loss: 0.7332 - accuracy: 0.7256 - val_loss: 0.5042 - val_accuracy: 0.8391\n",
      "Epoch 11/50\n",
      "897/897 [==============================] - 105s 117ms/step - loss: 0.6685 - accuracy: 0.7514 - val_loss: 0.4256 - val_accuracy: 0.8647\n",
      "Epoch 12/50\n",
      "897/897 [==============================] - 105s 117ms/step - loss: 0.6209 - accuracy: 0.7709 - val_loss: 0.3676 - val_accuracy: 0.8832\n",
      "Epoch 13/50\n",
      "897/897 [==============================] - 107s 119ms/step - loss: 0.5678 - accuracy: 0.7894 - val_loss: 0.3049 - val_accuracy: 0.9088\n",
      "Epoch 14/50\n",
      "897/897 [==============================] - 105s 117ms/step - loss: 0.5326 - accuracy: 0.8028 - val_loss: 0.2735 - val_accuracy: 0.9269\n",
      "Epoch 15/50\n",
      "897/897 [==============================] - 104s 116ms/step - loss: 0.5029 - accuracy: 0.8165 - val_loss: 0.2491 - val_accuracy: 0.9410\n",
      "Epoch 16/50\n",
      "897/897 [==============================] - 103s 115ms/step - loss: 0.4640 - accuracy: 0.8305 - val_loss: 0.1921 - val_accuracy: 0.9482\n",
      "Epoch 17/50\n",
      "897/897 [==============================] - 101s 113ms/step - loss: 0.4381 - accuracy: 0.8405 - val_loss: 0.2122 - val_accuracy: 0.9461\n",
      "Epoch 18/50\n",
      "897/897 [==============================] - 101s 113ms/step - loss: 0.4165 - accuracy: 0.8474 - val_loss: 0.1554 - val_accuracy: 0.9611\n",
      "Epoch 19/50\n",
      "897/897 [==============================] - 206s 230ms/step - loss: 0.3942 - accuracy: 0.8567 - val_loss: 0.1704 - val_accuracy: 0.9570\n",
      "Epoch 20/50\n",
      "897/897 [==============================] - 251s 280ms/step - loss: 0.3738 - accuracy: 0.8638 - val_loss: 0.1257 - val_accuracy: 0.9693\n",
      "Epoch 21/50\n",
      "897/897 [==============================] - 243s 271ms/step - loss: 0.3558 - accuracy: 0.8693 - val_loss: 0.1078 - val_accuracy: 0.9799\n",
      "Epoch 22/50\n",
      "897/897 [==============================] - 644s 718ms/step - loss: 0.3496 - accuracy: 0.8735 - val_loss: 0.1094 - val_accuracy: 0.9747\n",
      "Epoch 23/50\n",
      "897/897 [==============================] - 104s 116ms/step - loss: 0.3385 - accuracy: 0.8791 - val_loss: 0.0974 - val_accuracy: 0.9778\n",
      "Epoch 24/50\n",
      "897/897 [==============================] - 103s 115ms/step - loss: 0.3136 - accuracy: 0.8871 - val_loss: 0.1033 - val_accuracy: 0.9757\n",
      "Epoch 25/50\n",
      "897/897 [==============================] - 104s 116ms/step - loss: 0.3170 - accuracy: 0.8876 - val_loss: 0.1104 - val_accuracy: 0.9722\n",
      "Epoch 26/50\n",
      "897/897 [==============================] - 101s 112ms/step - loss: 0.3010 - accuracy: 0.8918 - val_loss: 0.0886 - val_accuracy: 0.9796\n",
      "Epoch 27/50\n",
      "897/897 [==============================] - 103s 114ms/step - loss: 0.2938 - accuracy: 0.8954 - val_loss: 0.0625 - val_accuracy: 0.9874\n",
      "Epoch 28/50\n",
      "897/897 [==============================] - 102s 114ms/step - loss: 0.2779 - accuracy: 0.9000 - val_loss: 0.0670 - val_accuracy: 0.9867\n",
      "Epoch 29/50\n",
      "897/897 [==============================] - 102s 114ms/step - loss: 0.2770 - accuracy: 0.9031 - val_loss: 0.0576 - val_accuracy: 0.9894\n",
      "Epoch 30/50\n",
      "897/897 [==============================] - 101s 113ms/step - loss: 0.2747 - accuracy: 0.9016 - val_loss: 0.0700 - val_accuracy: 0.9847\n",
      "Epoch 31/50\n",
      "897/897 [==============================] - 100s 112ms/step - loss: 0.2633 - accuracy: 0.9063 - val_loss: 0.0507 - val_accuracy: 0.9894\n",
      "Epoch 32/50\n",
      "897/897 [==============================] - 102s 114ms/step - loss: 0.2552 - accuracy: 0.9086 - val_loss: 0.0571 - val_accuracy: 0.9890\n",
      "Epoch 33/50\n",
      "897/897 [==============================] - 100s 112ms/step - loss: 0.2499 - accuracy: 0.9121 - val_loss: 0.0518 - val_accuracy: 0.9893\n",
      "Epoch 34/50\n",
      "897/897 [==============================] - 102s 114ms/step - loss: 0.2595 - accuracy: 0.9081 - val_loss: 0.0498 - val_accuracy: 0.9901\n",
      "Epoch 35/50\n",
      "897/897 [==============================] - 102s 113ms/step - loss: 0.2368 - accuracy: 0.9173 - val_loss: 0.0449 - val_accuracy: 0.9881\n",
      "Epoch 36/50\n",
      "897/897 [==============================] - 101s 113ms/step - loss: 0.2413 - accuracy: 0.9157 - val_loss: 0.0386 - val_accuracy: 0.9943\n",
      "Epoch 37/50\n",
      "897/897 [==============================] - 101s 113ms/step - loss: 0.2234 - accuracy: 0.9221 - val_loss: 0.0461 - val_accuracy: 0.9897\n",
      "Epoch 38/50\n",
      "897/897 [==============================] - 101s 113ms/step - loss: 0.2233 - accuracy: 0.9222 - val_loss: 0.0398 - val_accuracy: 0.9925\n",
      "Epoch 39/50\n",
      "897/897 [==============================] - 102s 113ms/step - loss: 0.2281 - accuracy: 0.9223 - val_loss: 0.0354 - val_accuracy: 0.9934\n",
      "Epoch 40/50\n",
      "897/897 [==============================] - 102s 113ms/step - loss: 0.2150 - accuracy: 0.9228 - val_loss: 0.0487 - val_accuracy: 0.9874\n",
      "Epoch 41/50\n",
      "897/897 [==============================] - 101s 113ms/step - loss: 0.2183 - accuracy: 0.9242 - val_loss: 0.0433 - val_accuracy: 0.9919\n",
      "Epoch 42/50\n",
      "897/897 [==============================] - 100s 112ms/step - loss: 0.2131 - accuracy: 0.9258 - val_loss: 0.0343 - val_accuracy: 0.9932\n",
      "Epoch 43/50\n",
      "897/897 [==============================] - 101s 113ms/step - loss: 0.2077 - accuracy: 0.9269 - val_loss: 0.0318 - val_accuracy: 0.9922\n",
      "Epoch 44/50\n",
      "897/897 [==============================] - 102s 113ms/step - loss: 0.2109 - accuracy: 0.9276 - val_loss: 0.0334 - val_accuracy: 0.9934\n",
      "Epoch 45/50\n",
      "897/897 [==============================] - 101s 112ms/step - loss: 0.1998 - accuracy: 0.9300 - val_loss: 0.0255 - val_accuracy: 0.9936\n",
      "Epoch 46/50\n",
      "897/897 [==============================] - 102s 113ms/step - loss: 0.2069 - accuracy: 0.9288 - val_loss: 0.0325 - val_accuracy: 0.9944\n",
      "Epoch 47/50\n",
      "897/897 [==============================] - 100s 112ms/step - loss: 0.1903 - accuracy: 0.9353 - val_loss: 0.0325 - val_accuracy: 0.9920\n",
      "Epoch 48/50\n",
      "897/897 [==============================] - 102s 114ms/step - loss: 0.1932 - accuracy: 0.9348 - val_loss: 0.0275 - val_accuracy: 0.9937\n",
      "Epoch 49/50\n",
      "897/897 [==============================] - 101s 112ms/step - loss: 0.1887 - accuracy: 0.9347 - val_loss: 0.0273 - val_accuracy: 0.9936\n",
      "Epoch 50/50\n",
      "897/897 [==============================] - 101s 113ms/step - loss: 0.1950 - accuracy: 0.9310 - val_loss: 0.0211 - val_accuracy: 0.9969\n",
      "INFO:tensorflow:Assets written to: emotion_detection_model_100epochs.hS\\assets\n"
     ]
    },
    {
     "name": "stderr",
     "output_type": "stream",
     "text": [
      "INFO:tensorflow:Assets written to: emotion_detection_model_100epochs.hS\\assets\n"
     ]
    }
   ],
   "source": [
    "history=model.fit(train_generator,steps_per_epoch=num_train_imgs//batch_size,epochs=epochs,\n",
    "                 validation_data=validation_generator,validation_steps=num_test_imgs//batch_size)\n",
    "\n",
    "model.save('emotion_detection_model_100epochs.hS')"
   ]
  },
  {
   "cell_type": "code",
   "execution_count": 13,
   "id": "f16f2874",
   "metadata": {},
   "outputs": [
    {
     "data": {
      "text/plain": [
       "<function matplotlib.pyplot.show(close=None, block=None)>"
      ]
     },
     "execution_count": 13,
     "metadata": {},
     "output_type": "execute_result"
    },
    {
     "data": {
      "image/png": "[encoded data removed]",
      "text/plain": [
       "<Figure size 640x480 with 1 Axes>"
      ]
     },
     "metadata": {},
     "output_type": "display_data"
    }
   ],
   "source": [
    "## plot training and validation accuracy and loss at each epoch\n",
    "\n",
    "loss = history.history['loss']\n",
    "val_loss = history.history['val_loss']\n",
    "epochs = range(1,len(loss)+1)\n",
    "plt.plot(epochs,loss,'y', label = 'Training loss')\n",
    "plt.plot(epochs,val_loss,'r', label= 'validation loss')\n",
    "plt.title('tarining and validation loss')\n",
    "plt.xlabel('Epochs')\n",
    "plt.ylabel('loss')\n",
    "plt.legend()\n",
    "plt.show\n"
   ]
  },
  {
   "cell_type": "code",
   "execution_count": 14,
   "id": "a343724e",
   "metadata": {},
   "outputs": [],
   "source": [
    "from keras.models import load_model"
   ]
  },
  {
   "cell_type": "code",
   "execution_count": 15,
   "id": "af941f91",
   "metadata": {},
   "outputs": [
    {
     "name": "stdout",
     "output_type": "stream",
     "text": [
      "WARNING:tensorflow:From C:\\Users\\ashis\\anaconda3\\Lib\\site-packages\\keras\\src\\saving\\legacy\\saved_model\\load.py:107: The name tf.gfile.Exists is deprecated. Please use tf.io.gfile.exists instead.\n",
      "\n"
     ]
    },
    {
     "name": "stderr",
     "output_type": "stream",
     "text": [
      "WARNING:tensorflow:From C:\\Users\\ashis\\anaconda3\\Lib\\site-packages\\keras\\src\\saving\\legacy\\saved_model\\load.py:107: The name tf.gfile.Exists is deprecated. Please use tf.io.gfile.exists instead.\n",
      "\n"
     ]
    }
   ],
   "source": [
    "## test the model \n",
    "my_model  = load_model('emotion_detection_model_100epochs.hS', compile=False)"
   ]
  },
  {
   "cell_type": "code",
   "execution_count": 19,
   "id": "9baf9a21",
   "metadata": {},
   "outputs": [
    {
     "name": "stdout",
     "output_type": "stream",
     "text": [
      "1/1 [==============================] - 0s 122ms/step\n",
      "Accuracy= 1.0\n"
     ]
    }
   ],
   "source": [
    "## generate a batch of images\n",
    "test_img, test_lbl = validation_generator.__next__()\n",
    "predictions=my_model.predict(test_img)\n",
    "\n",
    "predictions = np.argmax(predictions, axis=1)\n",
    "test_labels = np.argmax(test_lbl, axis=1)\n",
    "\n",
    "from sklearn import metrics\n",
    "print(\"Accuracy=\",metrics.accuracy_score(test_labels,predictions))"
   ]
  },
  {
   "cell_type": "code",
   "execution_count": 33,
   "id": "52a3a8f3",
   "metadata": {},
   "outputs": [
    {
     "data": {
      "text/plain": [
       "<function matplotlib.pyplot.show(close=None, block=None)>"
      ]
     },
     "execution_count": 33,
     "metadata": {},
     "output_type": "execute_result"
    },
    {
     "data": {
      "image/png": "[encoded data removed]",
      "text/plain": [
       "<Figure size 640x480 with 2 Axes>"
      ]
     },
     "metadata": {},
     "output_type": "display_data"
    }
   ],
   "source": [
    "## confusion matrix - verify accuracy of each class\n",
    "from sklearn.metrics import confusion_matrix\n",
    "cm = confusion_matrix(test_labels, predictions)\n",
    "\n",
    "## print(cm)\n",
    "\n",
    "import seaborn as sns\n",
    "sns.heatmap(cm, annot = True)\n",
    "\n",
    "class_labels=['Angry','Disgust', 'Fear','Happy',\"Neatral\",'Sad','Surprise']\n",
    "\n",
    "## check result in few select images\n",
    "\n",
    "n = random.randint(0,test_img.shape[0] - 1)\n",
    "image = test_img[n]\n",
    "orig_labl = class_labels[test_labels[n]]\n",
    "pred_labl = class_labels[predictions[n]]\n",
    "plt.imshow(image[:,:,0], cmap='gray')\n",
    "plt.title(\"Original label is :\"+orig_labl+\" Predicted is\"+ pred_labl)\n",
    "plt.show\n",
    "\n"
   ]
  },
  {
   "cell_type": "code",
   "execution_count": null,
   "id": "3a3e6539",
   "metadata": {},
   "outputs": [],
   "source": []
  },
  {
   "cell_type": "code",
   "execution_count": null,
   "id": "d56a0179",
   "metadata": {},
   "outputs": [],
   "source": []
  },
  {
   "cell_type": "code",
   "execution_count": null,
   "id": "89ab69fb",
   "metadata": {},
   "outputs": [],
   "source": []
  },
  {
   "cell_type": "code",
   "execution_count": null,
   "id": "841d10fe",
   "metadata": {},
   "outputs": [],
   "source": []
  },
  {
   "cell_type": "code",
   "execution_count": null,
   "id": "c17167ce",
   "metadata": {},
   "outputs": [],
   "source": []
  },
  {
   "cell_type": "code",
   "execution_count": null,
   "id": "199f32f9",
   "metadata": {},
   "outputs": [],
   "source": []
  },
  {
   "cell_type": "code",
   "execution_count": null,
   "id": "839af81e",
   "metadata": {},
   "outputs": [],
   "source": []
  },
  {
   "cell_type": "code",
   "execution_count": null,
   "id": "6a7d3441",
   "metadata": {},
   "outputs": [],
   "source": []
  },
  {
   "cell_type": "code",
   "execution_count": null,
   "id": "2a5a1c0d",
   "metadata": {},
   "outputs": [],
   "source": []
  },
  {
   "cell_type": "code",
   "execution_count": null,
   "id": "bc604b83",
   "metadata": {},
   "outputs": [],
   "source": []
  },
  {
   "cell_type": "code",
   "execution_count": null,
   "id": "8f6394d2",
   "metadata": {},
   "outputs": [],
   "source": []
  },
  {
   "cell_type": "code",
   "execution_count": null,
   "id": "23975194",
   "metadata": {},
   "outputs": [],
   "source": []
  },
  {
   "cell_type": "code",
   "execution_count": null,
   "id": "d82948fe",
   "metadata": {},
   "outputs": [],
   "source": []
  },
  {
   "cell_type": "code",
   "execution_count": null,
   "id": "8a615d90",
   "metadata": {},
   "outputs": [],
   "source": []
  },
  {
   "cell_type": "code",
   "execution_count": null,
   "id": "b392a6c1",
   "metadata": {},
   "outputs": [],
   "source": []
  },
  {
   "cell_type": "code",
   "execution_count": null,
   "id": "a4e21283",
   "metadata": {},
   "outputs": [],
   "source": []
  },
  {
   "cell_type": "code",
   "execution_count": null,
   "id": "f24936c8",
   "metadata": {},
   "outputs": [],
   "source": []
  },
  {
   "cell_type": "code",
   "execution_count": null,
   "id": "a0d41900",
   "metadata": {},
   "outputs": [],
   "source": []
  },
  {
   "cell_type": "code",
   "execution_count": null,
   "id": "0b16b2a8",
   "metadata": {},
   "outputs": [],
   "source": []
  },
  {
   "cell_type": "code",
   "execution_count": null,
   "id": "b6d1e712",
   "metadata": {},
   "outputs": [],
   "source": []
  },
  {
   "cell_type": "code",
   "execution_count": null,
   "id": "b99ab9bf",
   "metadata": {},
   "outputs": [],
   "source": []
  },
  {
   "cell_type": "code",
   "execution_count": null,
   "id": "e16bd9c1",
   "metadata": {},
   "outputs": [],
   "source": []
  },
  {
   "cell_type": "code",
   "execution_count": null,
   "id": "5ae01cb5",
   "metadata": {},
   "outputs": [],
   "source": []
  },
  {
   "cell_type": "code",
   "execution_count": null,
   "id": "19c21f24",
   "metadata": {},
   "outputs": [],
   "source": []
  },
  {
   "cell_type": "code",
   "execution_count": null,
   "id": "ff2d7586",
   "metadata": {},
   "outputs": [],
   "source": []
  },
  {
   "cell_type": "code",
   "execution_count": null,
   "id": "f952eec1",
   "metadata": {},
   "outputs": [],
   "source": []
  },
  {
   "cell_type": "code",
   "execution_count": null,
   "id": "1bb53198",
   "metadata": {},
   "outputs": [],
   "source": []
  },
  {
   "cell_type": "code",
   "execution_count": null,
   "id": "873b9025",
   "metadata": {},
   "outputs": [],
   "source": []
  },
  {
   "cell_type": "code",
   "execution_count": null,
   "id": "a76e3740",
   "metadata": {},
   "outputs": [],
   "source": []
  },
  {
   "cell_type": "code",
   "execution_count": null,
   "id": "39f9978d",
   "metadata": {},
   "outputs": [],
   "source": []
  },
  {
   "cell_type": "code",
   "execution_count": null,
   "id": "b4c673bb",
   "metadata": {},
   "outputs": [],
   "source": []
  },
  {
   "cell_type": "code",
   "execution_count": null,
   "id": "1bbb8eb9",
   "metadata": {},
   "outputs": [],
   "source": []
  },
  {
   "cell_type": "code",
   "execution_count": null,
   "id": "9c02d22b",
   "metadata": {},
   "outputs": [],
   "source": []
  },
  {
   "cell_type": "code",
   "execution_count": null,
   "id": "3f1d82e9",
   "metadata": {},
   "outputs": [],
   "source": []
  },
  {
   "cell_type": "code",
   "execution_count": null,
   "id": "8074371b",
   "metadata": {},
   "outputs": [],
   "source": []
  },
  {
   "cell_type": "code",
   "execution_count": null,
   "id": "06780403",
   "metadata": {},
   "outputs": [],
   "source": []
  },
  {
   "cell_type": "code",
   "execution_count": null,
   "id": "8062c823",
   "metadata": {},
   "outputs": [],
   "source": []
  },
  {
   "cell_type": "code",
   "execution_count": null,
   "id": "cbc31c2b",
   "metadata": {},
   "outputs": [],
   "source": []
  },
  {
   "cell_type": "code",
   "execution_count": null,
   "id": "2048b80b",
   "metadata": {},
   "outputs": [],
   "source": []
  },
  {
   "cell_type": "code",
   "execution_count": null,
   "id": "f5c4222e",
   "metadata": {},
   "outputs": [],
   "source": []
  },
  {
   "cell_type": "code",
   "execution_count": null,
   "id": "69c3e64b",
   "metadata": {},
   "outputs": [],
   "source": []
  },
  {
   "cell_type": "code",
   "execution_count": null,
   "id": "d148f064",
   "metadata": {},
   "outputs": [],
   "source": []
  },
  {
   "cell_type": "code",
   "execution_count": null,
   "id": "3f753bba",
   "metadata": {},
   "outputs": [],
   "source": []
  },
  {
   "cell_type": "code",
   "execution_count": null,
   "id": "259485bf",
   "metadata": {},
   "outputs": [],
   "source": []
  },
  {
   "cell_type": "code",
   "execution_count": null,
   "id": "894623a5",
   "metadata": {},
   "outputs": [],
   "source": []
  },
  {
   "cell_type": "code",
   "execution_count": null,
   "id": "09c6a736",
   "metadata": {},
   "outputs": [],
   "source": []
  },
  {
   "cell_type": "code",
   "execution_count": null,
   "id": "5bbfbc6b",
   "metadata": {},
   "outputs": [],
   "source": []
  },
  {
   "cell_type": "code",
   "execution_count": null,
   "id": "18656a41",
   "metadata": {},
   "outputs": [],
   "source": []
  },
  {
   "cell_type": "code",
   "execution_count": null,
   "id": "90142a12",
   "metadata": {},
   "outputs": [],
   "source": []
  },
  {
   "cell_type": "code",
   "execution_count": null,
   "id": "719bffd9",
   "metadata": {},
   "outputs": [],
   "source": []
  },
  {
   "cell_type": "code",
   "execution_count": null,
   "id": "6de3afaf",
   "metadata": {},
   "outputs": [],
   "source": []
  },
  {
   "cell_type": "code",
   "execution_count": null,
   "id": "bb673b8d",
   "metadata": {},
   "outputs": [],
   "source": []
  },
  {
   "cell_type": "code",
   "execution_count": null,
   "id": "69f851af",
   "metadata": {},
   "outputs": [],
   "source": []
  },
  {
   "cell_type": "code",
   "execution_count": null,
   "id": "75a24ec5",
   "metadata": {},
   "outputs": [],
   "source": []
  },
  {
   "cell_type": "code",
   "execution_count": null,
   "id": "cf06ef21",
   "metadata": {},
   "outputs": [],
   "source": []
  },
  {
   "cell_type": "code",
   "execution_count": null,
   "id": "3f114df8",
   "metadata": {},
   "outputs": [],
   "source": []
  },
  {
   "cell_type": "code",
   "execution_count": null,
   "id": "c74a852b",
   "metadata": {},
   "outputs": [],
   "source": []
  },
  {
   "cell_type": "code",
   "execution_count": null,
   "id": "12534d11",
   "metadata": {},
   "outputs": [],
   "source": []
  },
  {
   "cell_type": "code",
   "execution_count": null,
   "id": "1caa4152",
   "metadata": {},
   "outputs": [],
   "source": []
  },
  {
   "cell_type": "code",
   "execution_count": null,
   "id": "392fd75c",
   "metadata": {},
   "outputs": [],
   "source": []
  },
  {
   "cell_type": "code",
   "execution_count": null,
   "id": "6fdb5ea0",
   "metadata": {},
   "outputs": [],
   "source": []
  },
  {
   "cell_type": "code",
   "execution_count": null,
   "id": "baac0f33",
   "metadata": {},
   "outputs": [],
   "source": []
  },
  {
   "cell_type": "code",
   "execution_count": null,
   "id": "28f46765",
   "metadata": {},
   "outputs": [],
   "source": []
  },
  {
   "cell_type": "code",
   "execution_count": null,
   "id": "9eb595a9",
   "metadata": {},
   "outputs": [],
   "source": []
  },
  {
   "cell_type": "code",
   "execution_count": null,
   "id": "4003cab6",
   "metadata": {},
   "outputs": [],
   "source": []
  },
  {
   "cell_type": "code",
   "execution_count": null,
   "id": "a2c219bc",
   "metadata": {},
   "outputs": [],
   "source": []
  },
  {
   "cell_type": "code",
   "execution_count": null,
   "id": "b2845b87",
   "metadata": {},
   "outputs": [],
   "source": []
  },
  {
   "cell_type": "code",
   "execution_count": null,
   "id": "f785dcd0",
   "metadata": {},
   "outputs": [],
   "source": []
  },
  {
   "cell_type": "code",
   "execution_count": null,
   "id": "56ad44f6",
   "metadata": {},
   "outputs": [],
   "source": []
  },
  {
   "cell_type": "code",
   "execution_count": null,
   "id": "dde1841a",
   "metadata": {},
   "outputs": [],
   "source": []
  },
  {
   "cell_type": "code",
   "execution_count": null,
   "id": "4e6adf5b",
   "metadata": {},
   "outputs": [],
   "source": []
  },
  {
   "cell_type": "code",
   "execution_count": null,
   "id": "83043a24",
   "metadata": {},
   "outputs": [],
   "source": []
  },
  {
   "cell_type": "code",
   "execution_count": null,
   "id": "018de750",
   "metadata": {},
   "outputs": [],
   "source": []
  },
  {
   "cell_type": "code",
   "execution_count": null,
   "id": "bf2aee25",
   "metadata": {},
   "outputs": [],
   "source": []
  },
  {
   "cell_type": "code",
   "execution_count": null,
   "id": "364c41dd",
   "metadata": {},
   "outputs": [],
   "source": []
  },
  {
   "cell_type": "code",
   "execution_count": null,
   "id": "b8fb0855",
   "metadata": {},
   "outputs": [],
   "source": []
  },
  {
   "cell_type": "code",
   "execution_count": null,
   "id": "e8e06ea1",
   "metadata": {},
   "outputs": [],
   "source": []
  },
  {
   "cell_type": "code",
   "execution_count": null,
   "id": "83ce2d83",
   "metadata": {},
   "outputs": [],
   "source": []
  },
  {
   "cell_type": "code",
   "execution_count": null,
   "id": "c99bd3f0",
   "metadata": {},
   "outputs": [],
   "source": []
  },
  {
   "cell_type": "code",
   "execution_count": null,
   "id": "9c69b728",
   "metadata": {},
   "outputs": [],
   "source": []
  },
  {
   "cell_type": "code",
   "execution_count": null,
   "id": "187320cf",
   "metadata": {},
   "outputs": [],
   "source": []
  },
  {
   "cell_type": "code",
   "execution_count": null,
   "id": "898b3197",
   "metadata": {},
   "outputs": [],
   "source": []
  },
  {
   "cell_type": "code",
   "execution_count": null,
   "id": "fb303b82",
   "metadata": {},
   "outputs": [],
   "source": []
  },
  {
   "cell_type": "code",
   "execution_count": null,
   "id": "34e3f873",
   "metadata": {},
   "outputs": [],
   "source": []
  },
  {
   "cell_type": "code",
   "execution_count": null,
   "id": "29870af5",
   "metadata": {},
   "outputs": [],
   "source": []
  },
  {
   "cell_type": "code",
   "execution_count": null,
   "id": "a49c14e9",
   "metadata": {},
   "outputs": [],
   "source": []
  },
  {
   "cell_type": "code",
   "execution_count": null,
   "id": "3269ccb0",
   "metadata": {},
   "outputs": [],
   "source": []
  },
  {
   "cell_type": "code",
   "execution_count": null,
   "id": "aae715a1",
   "metadata": {},
   "outputs": [],
   "source": []
  }
 ],
 "metadata": {
  "kernelspec": {
   "display_name": "Python 3 (ipykernel)",
   "language": "python",
   "name": "python3"
  },
  "language_info": {
   "codemirror_mode": {
    "name": "ipython",
    "version": 3
   },
   "file_extension": ".py",
   "mimetype": "text/x-python",
   "name": "python",
   "nbconvert_exporter": "python",
   "pygments_lexer": "ipython3",
   "version": "3.11.5"
  }
 },
 "nbformat": 4,
 "nbformat_minor": 5
}
